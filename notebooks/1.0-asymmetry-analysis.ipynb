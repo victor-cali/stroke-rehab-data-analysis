{
 "cells": [
  {
   "cell_type": "markdown",
   "metadata": {},
   "source": [
    " # Stroke Rehab EEG Analysis Pipeline\n",
    "\n",
    "\n",
    "\n",
    " Pipeline to convert .mat files into MNE Raw and Epochs objects and store them in a structured DataFrame."
   ]
  },
  {
   "cell_type": "markdown",
   "metadata": {},
   "source": [
    " ## 🧰 Setups and Imports"
   ]
  },
  {
   "cell_type": "code",
   "execution_count": 1,
   "metadata": {},
   "outputs": [],
   "source": [
    "import os\n",
    "import re\n",
    "import mne\n",
    "import numpy as np\n",
    "import pandas as pd\n",
    "from scipy.io import loadmat\n"
   ]
  },
  {
   "cell_type": "markdown",
   "metadata": {},
   "source": [
    " ## ⚙️ Constants Definition"
   ]
  },
  {
   "cell_type": "code",
   "execution_count": 2,
   "metadata": {},
   "outputs": [],
   "source": [
    "DATA_DIR = '/Dev/stroke-rehab-data-analysis/data/stroke-rehab'\n",
    "FILE_REGEX = r'(?P<subject>P\\d+)_(?P<stage>pre|post)_(?P<split>training|test)\\.mat'\n",
    "CHANNEL_NAMES = ['FC3','FCz','FC4','C5','C3','C1','Cz','C2','C4','C6', 'CP3','CP1','CPz','CP2','CP4','Pz']\n",
    "CHANNEL_TYPES = ['eeg'] * len(CHANNEL_NAMES)\n",
    "MONTAGE = 'standard_1020'\n",
    "EVENT_ID={'left': 1, 'right': 2}\n"
   ]
  },
  {
   "cell_type": "markdown",
   "metadata": {},
   "source": [
    " ## 📂 Data File Paths Parsing"
   ]
  },
  {
   "cell_type": "code",
   "execution_count": 3,
   "metadata": {},
   "outputs": [
    {
     "data": {
      "application/vnd.microsoft.datawrangler.viewer.v0+json": {
       "columns": [
        {
         "name": "index",
         "rawType": "int64",
         "type": "integer"
        },
        {
         "name": "filepath",
         "rawType": "object",
         "type": "string"
        },
        {
         "name": "subject",
         "rawType": "object",
         "type": "string"
        },
        {
         "name": "stage",
         "rawType": "object",
         "type": "string"
        },
        {
         "name": "split",
         "rawType": "object",
         "type": "string"
        }
       ],
       "conversionMethod": "pd.DataFrame",
       "ref": "34c6af18-ea04-467d-9572-17bdd05dcd7e",
       "rows": [
        [
         "0",
         "/Dev/stroke-rehab-data-analysis/data/stroke-rehab/P2_post_training.mat",
         "P2",
         "post",
         "training"
        ],
        [
         "1",
         "/Dev/stroke-rehab-data-analysis/data/stroke-rehab/P2_post_test.mat",
         "P2",
         "post",
         "test"
        ],
        [
         "2",
         "/Dev/stroke-rehab-data-analysis/data/stroke-rehab/P2_pre_training.mat",
         "P2",
         "pre",
         "training"
        ],
        [
         "3",
         "/Dev/stroke-rehab-data-analysis/data/stroke-rehab/P3_pre_training.mat",
         "P3",
         "pre",
         "training"
        ],
        [
         "4",
         "/Dev/stroke-rehab-data-analysis/data/stroke-rehab/P1_post_test.mat",
         "P1",
         "post",
         "test"
        ],
        [
         "5",
         "/Dev/stroke-rehab-data-analysis/data/stroke-rehab/P3_post_training.mat",
         "P3",
         "post",
         "training"
        ],
        [
         "6",
         "/Dev/stroke-rehab-data-analysis/data/stroke-rehab/P1_post_training.mat",
         "P1",
         "post",
         "training"
        ],
        [
         "7",
         "/Dev/stroke-rehab-data-analysis/data/stroke-rehab/P3_post_test.mat",
         "P3",
         "post",
         "test"
        ],
        [
         "8",
         "/Dev/stroke-rehab-data-analysis/data/stroke-rehab/P1_pre_test.mat",
         "P1",
         "pre",
         "test"
        ],
        [
         "9",
         "/Dev/stroke-rehab-data-analysis/data/stroke-rehab/P2_pre_test.mat",
         "P2",
         "pre",
         "test"
        ]
       ],
       "shape": {
        "columns": 4,
        "rows": 10
       }
      },
      "text/html": [
       "<div>\n",
       "<style scoped>\n",
       "    .dataframe tbody tr th:only-of-type {\n",
       "        vertical-align: middle;\n",
       "    }\n",
       "\n",
       "    .dataframe tbody tr th {\n",
       "        vertical-align: top;\n",
       "    }\n",
       "\n",
       "    .dataframe thead th {\n",
       "        text-align: right;\n",
       "    }\n",
       "</style>\n",
       "<table border=\"1\" class=\"dataframe\">\n",
       "  <thead>\n",
       "    <tr style=\"text-align: right;\">\n",
       "      <th></th>\n",
       "      <th>filepath</th>\n",
       "      <th>subject</th>\n",
       "      <th>stage</th>\n",
       "      <th>split</th>\n",
       "    </tr>\n",
       "  </thead>\n",
       "  <tbody>\n",
       "    <tr>\n",
       "      <th>0</th>\n",
       "      <td>/Dev/stroke-rehab-data-analysis/data/stroke-re...</td>\n",
       "      <td>P2</td>\n",
       "      <td>post</td>\n",
       "      <td>training</td>\n",
       "    </tr>\n",
       "    <tr>\n",
       "      <th>1</th>\n",
       "      <td>/Dev/stroke-rehab-data-analysis/data/stroke-re...</td>\n",
       "      <td>P2</td>\n",
       "      <td>post</td>\n",
       "      <td>test</td>\n",
       "    </tr>\n",
       "    <tr>\n",
       "      <th>2</th>\n",
       "      <td>/Dev/stroke-rehab-data-analysis/data/stroke-re...</td>\n",
       "      <td>P2</td>\n",
       "      <td>pre</td>\n",
       "      <td>training</td>\n",
       "    </tr>\n",
       "    <tr>\n",
       "      <th>3</th>\n",
       "      <td>/Dev/stroke-rehab-data-analysis/data/stroke-re...</td>\n",
       "      <td>P3</td>\n",
       "      <td>pre</td>\n",
       "      <td>training</td>\n",
       "    </tr>\n",
       "    <tr>\n",
       "      <th>4</th>\n",
       "      <td>/Dev/stroke-rehab-data-analysis/data/stroke-re...</td>\n",
       "      <td>P1</td>\n",
       "      <td>post</td>\n",
       "      <td>test</td>\n",
       "    </tr>\n",
       "    <tr>\n",
       "      <th>5</th>\n",
       "      <td>/Dev/stroke-rehab-data-analysis/data/stroke-re...</td>\n",
       "      <td>P3</td>\n",
       "      <td>post</td>\n",
       "      <td>training</td>\n",
       "    </tr>\n",
       "    <tr>\n",
       "      <th>6</th>\n",
       "      <td>/Dev/stroke-rehab-data-analysis/data/stroke-re...</td>\n",
       "      <td>P1</td>\n",
       "      <td>post</td>\n",
       "      <td>training</td>\n",
       "    </tr>\n",
       "    <tr>\n",
       "      <th>7</th>\n",
       "      <td>/Dev/stroke-rehab-data-analysis/data/stroke-re...</td>\n",
       "      <td>P3</td>\n",
       "      <td>post</td>\n",
       "      <td>test</td>\n",
       "    </tr>\n",
       "    <tr>\n",
       "      <th>8</th>\n",
       "      <td>/Dev/stroke-rehab-data-analysis/data/stroke-re...</td>\n",
       "      <td>P1</td>\n",
       "      <td>pre</td>\n",
       "      <td>test</td>\n",
       "    </tr>\n",
       "    <tr>\n",
       "      <th>9</th>\n",
       "      <td>/Dev/stroke-rehab-data-analysis/data/stroke-re...</td>\n",
       "      <td>P2</td>\n",
       "      <td>pre</td>\n",
       "      <td>test</td>\n",
       "    </tr>\n",
       "  </tbody>\n",
       "</table>\n",
       "</div>"
      ],
      "text/plain": [
       "                                            filepath subject stage     split\n",
       "0  /Dev/stroke-rehab-data-analysis/data/stroke-re...      P2  post  training\n",
       "1  /Dev/stroke-rehab-data-analysis/data/stroke-re...      P2  post      test\n",
       "2  /Dev/stroke-rehab-data-analysis/data/stroke-re...      P2   pre  training\n",
       "3  /Dev/stroke-rehab-data-analysis/data/stroke-re...      P3   pre  training\n",
       "4  /Dev/stroke-rehab-data-analysis/data/stroke-re...      P1  post      test\n",
       "5  /Dev/stroke-rehab-data-analysis/data/stroke-re...      P3  post  training\n",
       "6  /Dev/stroke-rehab-data-analysis/data/stroke-re...      P1  post  training\n",
       "7  /Dev/stroke-rehab-data-analysis/data/stroke-re...      P3  post      test\n",
       "8  /Dev/stroke-rehab-data-analysis/data/stroke-re...      P1   pre      test\n",
       "9  /Dev/stroke-rehab-data-analysis/data/stroke-re...      P2   pre      test"
      ]
     },
     "execution_count": 3,
     "metadata": {},
     "output_type": "execute_result"
    }
   ],
   "source": [
    "file_entries = []\n",
    "\n",
    "for fname in os.listdir(DATA_DIR):\n",
    "    match = re.match(FILE_REGEX, fname)\n",
    "    if match:\n",
    "        file_entries.append({\n",
    "            'filepath': os.path.join(DATA_DIR, fname),\n",
    "            'subject': match.group('subject'),\n",
    "            'stage': match.group('stage'),\n",
    "            'split': match.group('split'),\n",
    "        })\n",
    "\n",
    "df = pd.DataFrame(file_entries)\n",
    "df.head(10)\n"
   ]
  },
  {
   "cell_type": "markdown",
   "metadata": {},
   "source": [
    " ## 🧠 MNE Raw Objects Generation"
   ]
  },
  {
   "cell_type": "code",
   "execution_count": 4,
   "metadata": {},
   "outputs": [],
   "source": [
    "def make_info(subject, stage, split, fs):\n",
    "    \"\"\"Create MNE info object with metadata.\"\"\"\n",
    "    info = mne.create_info(\n",
    "        ch_names=CHANNEL_NAMES,\n",
    "        sfreq=fs,\n",
    "        ch_types=CHANNEL_TYPES\n",
    "    )\n",
    "    info.set_montage(MONTAGE)\n",
    "\n",
    "    # Add metadata\n",
    "    info['subject_info'] = {'his_id': subject}\n",
    "    info['description'] = str({'stage': stage, 'split': split})\n",
    "\n",
    "    return info\n",
    "\n",
    "def make_annotations(triggers, fs):\n",
    "    \"\"\"Create annotations for the raw data.\"\"\"\n",
    "    # Create annotations based on the triggers\n",
    "    padded = np.r_[0, triggers, 0]\n",
    "    diffs = np.diff(padded)\n",
    "    idx = np.where(diffs != 0)[0]\n",
    "    onsets, offsets = idx[::2], idx[1::2]\n",
    "    values = triggers[onsets]\n",
    "\n",
    "    onset_times = onsets / fs\n",
    "    annot_durations = (offsets - onsets) / fs\n",
    "    annot_descriptions = ['left' if val == 1 else 'right' for val in values]\n",
    "\n",
    "    annot = mne.Annotations(onset=onset_times,\n",
    "                            duration=annot_durations,\n",
    "                            description=annot_descriptions)\n",
    "    \n",
    "    return annot\n",
    "\n",
    "def load_raw_from_mat(filepath, subject, stage, split):\n",
    "    \"\"\"Load raw data from .mat file.\"\"\"\n",
    "    mat = loadmat(filepath)\n",
    "    data = mat['y'].T\n",
    "    triggers = mat['trig'].ravel()\n",
    "    fs = float(mat['fs'].squeeze())\n",
    "    \n",
    "    info = make_info(subject, stage, split, fs)\n",
    "\n",
    "    raw = mne.io.RawArray(data, info)\n",
    "\n",
    "    annot = make_annotations(triggers, fs)\n",
    "    \n",
    "    raw.set_annotations(annot)\n",
    "\n",
    "    return raw\n"
   ]
  },
  {
   "cell_type": "code",
   "execution_count": 5,
   "metadata": {},
   "outputs": [
    {
     "name": "stdout",
     "output_type": "stream",
     "text": [
      "Creating RawArray with float64 data, n_channels=16, n_times=216720\n",
      "    Range : 0 ... 216719 =      0.000 ...   846.559 secs\n",
      "Ready.\n",
      "Creating RawArray with float64 data, n_channels=16, n_times=233576\n",
      "    Range : 0 ... 233575 =      0.000 ...   912.402 secs\n",
      "Ready.\n",
      "Creating RawArray with float64 data, n_channels=16, n_times=223112\n",
      "    Range : 0 ... 223111 =      0.000 ...   871.527 secs\n",
      "Ready.\n",
      "Creating RawArray with float64 data, n_channels=16, n_times=205536\n",
      "    Range : 0 ... 205535 =      0.000 ...   802.871 secs\n",
      "Ready.\n",
      "Creating RawArray with float64 data, n_channels=16, n_times=194088\n",
      "    Range : 0 ... 194087 =      0.000 ...   758.152 secs\n",
      "Ready.\n",
      "Creating RawArray with float64 data, n_channels=16, n_times=206504\n",
      "    Range : 0 ... 206503 =      0.000 ...   806.652 secs\n",
      "Ready.\n",
      "Creating RawArray with float64 data, n_channels=16, n_times=197343\n",
      "    Range : 0 ... 197342 =      0.000 ...   770.867 secs\n",
      "Ready.\n",
      "Creating RawArray with float64 data, n_channels=16, n_times=218432\n",
      "    Range : 0 ... 218431 =      0.000 ...   853.246 secs\n",
      "Ready.\n",
      "Creating RawArray with float64 data, n_channels=16, n_times=204560\n",
      "    Range : 0 ... 204559 =      0.000 ...   799.059 secs\n",
      "Ready.\n",
      "Creating RawArray with float64 data, n_channels=16, n_times=199552\n",
      "    Range : 0 ... 199551 =      0.000 ...   779.496 secs\n",
      "Ready.\n",
      "Creating RawArray with float64 data, n_channels=16, n_times=271816\n",
      "    Range : 0 ... 271815 =      0.000 ...  1061.777 secs\n",
      "Ready.\n",
      "Creating RawArray with float64 data, n_channels=16, n_times=248488\n",
      "    Range : 0 ... 248487 =      0.000 ...   970.652 secs\n",
      "Ready.\n"
     ]
    }
   ],
   "source": [
    "df['raw'] = df.apply(\n",
    "    lambda row: load_raw_from_mat(row['filepath'], row['subject'], row['stage'], row['split']),\n",
    "    axis=1\n",
    ")\n"
   ]
  },
  {
   "cell_type": "code",
   "execution_count": 6,
   "metadata": {},
   "outputs": [
    {
     "data": {
      "application/vnd.microsoft.datawrangler.viewer.v0+json": {
       "columns": [
        {
         "name": "index",
         "rawType": "int64",
         "type": "integer"
        },
        {
         "name": "subject",
         "rawType": "object",
         "type": "string"
        },
        {
         "name": "stage",
         "rawType": "object",
         "type": "string"
        },
        {
         "name": "split",
         "rawType": "object",
         "type": "string"
        },
        {
         "name": "raw",
         "rawType": "object",
         "type": "string"
        }
       ],
       "conversionMethod": "pd.DataFrame",
       "ref": "e25bbe87-aa88-470f-b7c4-c1004c6255ae",
       "rows": [
        [
         "0",
         "P2",
         "post",
         "training",
         "RawArray"
        ],
        [
         "1",
         "P2",
         "post",
         "test",
         "RawArray"
        ],
        [
         "2",
         "P2",
         "pre",
         "training",
         "RawArray"
        ],
        [
         "3",
         "P3",
         "pre",
         "training",
         "RawArray"
        ],
        [
         "4",
         "P1",
         "post",
         "test",
         "RawArray"
        ],
        [
         "5",
         "P3",
         "post",
         "training",
         "RawArray"
        ],
        [
         "6",
         "P1",
         "post",
         "training",
         "RawArray"
        ],
        [
         "7",
         "P3",
         "post",
         "test",
         "RawArray"
        ],
        [
         "8",
         "P1",
         "pre",
         "test",
         "RawArray"
        ],
        [
         "9",
         "P2",
         "pre",
         "test",
         "RawArray"
        ],
        [
         "10",
         "P1",
         "pre",
         "training",
         "RawArray"
        ],
        [
         "11",
         "P3",
         "pre",
         "test",
         "RawArray"
        ]
       ],
       "shape": {
        "columns": 4,
        "rows": 12
       }
      },
      "text/html": [
       "<div>\n",
       "<style scoped>\n",
       "    .dataframe tbody tr th:only-of-type {\n",
       "        vertical-align: middle;\n",
       "    }\n",
       "\n",
       "    .dataframe tbody tr th {\n",
       "        vertical-align: top;\n",
       "    }\n",
       "\n",
       "    .dataframe thead th {\n",
       "        text-align: right;\n",
       "    }\n",
       "</style>\n",
       "<table border=\"1\" class=\"dataframe\">\n",
       "  <thead>\n",
       "    <tr style=\"text-align: right;\">\n",
       "      <th></th>\n",
       "      <th>subject</th>\n",
       "      <th>stage</th>\n",
       "      <th>split</th>\n",
       "      <th>raw</th>\n",
       "    </tr>\n",
       "  </thead>\n",
       "  <tbody>\n",
       "    <tr>\n",
       "      <th>0</th>\n",
       "      <td>P2</td>\n",
       "      <td>post</td>\n",
       "      <td>training</td>\n",
       "      <td>RawArray</td>\n",
       "    </tr>\n",
       "    <tr>\n",
       "      <th>1</th>\n",
       "      <td>P2</td>\n",
       "      <td>post</td>\n",
       "      <td>test</td>\n",
       "      <td>RawArray</td>\n",
       "    </tr>\n",
       "    <tr>\n",
       "      <th>2</th>\n",
       "      <td>P2</td>\n",
       "      <td>pre</td>\n",
       "      <td>training</td>\n",
       "      <td>RawArray</td>\n",
       "    </tr>\n",
       "    <tr>\n",
       "      <th>3</th>\n",
       "      <td>P3</td>\n",
       "      <td>pre</td>\n",
       "      <td>training</td>\n",
       "      <td>RawArray</td>\n",
       "    </tr>\n",
       "    <tr>\n",
       "      <th>4</th>\n",
       "      <td>P1</td>\n",
       "      <td>post</td>\n",
       "      <td>test</td>\n",
       "      <td>RawArray</td>\n",
       "    </tr>\n",
       "    <tr>\n",
       "      <th>5</th>\n",
       "      <td>P3</td>\n",
       "      <td>post</td>\n",
       "      <td>training</td>\n",
       "      <td>RawArray</td>\n",
       "    </tr>\n",
       "    <tr>\n",
       "      <th>6</th>\n",
       "      <td>P1</td>\n",
       "      <td>post</td>\n",
       "      <td>training</td>\n",
       "      <td>RawArray</td>\n",
       "    </tr>\n",
       "    <tr>\n",
       "      <th>7</th>\n",
       "      <td>P3</td>\n",
       "      <td>post</td>\n",
       "      <td>test</td>\n",
       "      <td>RawArray</td>\n",
       "    </tr>\n",
       "    <tr>\n",
       "      <th>8</th>\n",
       "      <td>P1</td>\n",
       "      <td>pre</td>\n",
       "      <td>test</td>\n",
       "      <td>RawArray</td>\n",
       "    </tr>\n",
       "    <tr>\n",
       "      <th>9</th>\n",
       "      <td>P2</td>\n",
       "      <td>pre</td>\n",
       "      <td>test</td>\n",
       "      <td>RawArray</td>\n",
       "    </tr>\n",
       "    <tr>\n",
       "      <th>10</th>\n",
       "      <td>P1</td>\n",
       "      <td>pre</td>\n",
       "      <td>training</td>\n",
       "      <td>RawArray</td>\n",
       "    </tr>\n",
       "    <tr>\n",
       "      <th>11</th>\n",
       "      <td>P3</td>\n",
       "      <td>pre</td>\n",
       "      <td>test</td>\n",
       "      <td>RawArray</td>\n",
       "    </tr>\n",
       "  </tbody>\n",
       "</table>\n",
       "</div>"
      ],
      "text/plain": [
       "   subject stage     split       raw\n",
       "0       P2  post  training  RawArray\n",
       "1       P2  post      test  RawArray\n",
       "2       P2   pre  training  RawArray\n",
       "3       P3   pre  training  RawArray\n",
       "4       P1  post      test  RawArray\n",
       "5       P3  post  training  RawArray\n",
       "6       P1  post  training  RawArray\n",
       "7       P3  post      test  RawArray\n",
       "8       P1   pre      test  RawArray\n",
       "9       P2   pre      test  RawArray\n",
       "10      P1   pre  training  RawArray\n",
       "11      P3   pre      test  RawArray"
      ]
     },
     "execution_count": 6,
     "metadata": {},
     "output_type": "execute_result"
    }
   ],
   "source": [
    "# Select the simple string columns\n",
    "meta = df[[\"subject\", \"stage\", \"split\"]]\n",
    "# Create a new DataFrame with the types of the objects\n",
    "types = df[[\"raw\"]].map(lambda x: type(x).__name__)\n",
    "# Concatenate both for display\n",
    "pd.concat([meta, types], axis=1)"
   ]
  },
  {
   "cell_type": "markdown",
   "metadata": {},
   "source": [
    " ## ✂️ MNE Epochs Objects Generation"
   ]
  },
  {
   "cell_type": "code",
   "execution_count": 7,
   "metadata": {},
   "outputs": [],
   "source": [
    "def create_epochs_from_raw(raw):\n",
    "    fs = raw.info['sfreq']\n",
    "    events, event_id = mne.events_from_annotations(raw, event_id=EVENT_ID)\n",
    "    events[:, 0] += int(2 * fs)  # Shift events forward 2s per task description\n",
    "    epochs = mne.Epochs(raw, events, event_id=event_id)\n",
    "    return epochs\n"
   ]
  },
  {
   "cell_type": "code",
   "execution_count": 8,
   "metadata": {},
   "outputs": [
    {
     "name": "stdout",
     "output_type": "stream",
     "text": [
      "Used Annotations descriptions: [np.str_('left'), np.str_('right')]\n",
      "Not setting metadata\n",
      "80 matching events found\n",
      "Setting baseline interval to [-0.19921875, 0.0] s\n",
      "Applying baseline correction (mode: mean)\n",
      "0 projection items activated\n",
      "Used Annotations descriptions: [np.str_('left'), np.str_('right')]\n",
      "Not setting metadata\n",
      "80 matching events found\n",
      "Setting baseline interval to [-0.19921875, 0.0] s\n",
      "Applying baseline correction (mode: mean)\n",
      "0 projection items activated\n",
      "Used Annotations descriptions: [np.str_('left'), np.str_('right')]\n",
      "Not setting metadata\n",
      "80 matching events found\n",
      "Setting baseline interval to [-0.19921875, 0.0] s\n",
      "Applying baseline correction (mode: mean)\n",
      "0 projection items activated\n",
      "Used Annotations descriptions: [np.str_('left'), np.str_('right')]\n",
      "Not setting metadata\n",
      "80 matching events found\n",
      "Setting baseline interval to [-0.19921875, 0.0] s\n",
      "Applying baseline correction (mode: mean)\n",
      "0 projection items activated\n",
      "Used Annotations descriptions: [np.str_('left'), np.str_('right')]\n",
      "Not setting metadata\n",
      "80 matching events found\n",
      "Setting baseline interval to [-0.19921875, 0.0] s\n",
      "Applying baseline correction (mode: mean)\n",
      "0 projection items activated\n",
      "Used Annotations descriptions: [np.str_('left'), np.str_('right')]\n",
      "Not setting metadata\n",
      "80 matching events found\n",
      "Setting baseline interval to [-0.19921875, 0.0] s\n",
      "Applying baseline correction (mode: mean)\n",
      "0 projection items activated\n",
      "Used Annotations descriptions: [np.str_('left'), np.str_('right')]\n",
      "Not setting metadata\n",
      "80 matching events found\n",
      "Setting baseline interval to [-0.19921875, 0.0] s\n",
      "Applying baseline correction (mode: mean)\n",
      "0 projection items activated\n",
      "Used Annotations descriptions: [np.str_('left'), np.str_('right')]\n",
      "Not setting metadata\n",
      "80 matching events found\n",
      "Setting baseline interval to [-0.19921875, 0.0] s\n",
      "Applying baseline correction (mode: mean)\n",
      "0 projection items activated\n",
      "Used Annotations descriptions: [np.str_('left'), np.str_('right')]\n",
      "Not setting metadata\n",
      "80 matching events found\n",
      "Setting baseline interval to [-0.19921875, 0.0] s\n",
      "Applying baseline correction (mode: mean)\n",
      "0 projection items activated\n",
      "Used Annotations descriptions: [np.str_('left'), np.str_('right')]\n",
      "Not setting metadata\n",
      "80 matching events found\n",
      "Setting baseline interval to [-0.19921875, 0.0] s\n",
      "Applying baseline correction (mode: mean)\n",
      "0 projection items activated\n",
      "Used Annotations descriptions: [np.str_('left'), np.str_('right')]\n",
      "Not setting metadata\n",
      "80 matching events found\n",
      "Setting baseline interval to [-0.19921875, 0.0] s\n",
      "Applying baseline correction (mode: mean)\n",
      "0 projection items activated\n",
      "Used Annotations descriptions: [np.str_('left'), np.str_('right')]\n",
      "Not setting metadata\n",
      "80 matching events found\n",
      "Setting baseline interval to [-0.19921875, 0.0] s\n",
      "Applying baseline correction (mode: mean)\n",
      "0 projection items activated\n"
     ]
    }
   ],
   "source": [
    "df['epochs'] = df['raw'].apply(create_epochs_from_raw)\n"
   ]
  },
  {
   "cell_type": "markdown",
   "metadata": {},
   "source": [
    " ## 🧾 Final DataFrame Structure"
   ]
  },
  {
   "cell_type": "code",
   "execution_count": 9,
   "metadata": {},
   "outputs": [
    {
     "data": {
      "application/vnd.microsoft.datawrangler.viewer.v0+json": {
       "columns": [
        {
         "name": "index",
         "rawType": "int64",
         "type": "integer"
        },
        {
         "name": "subject",
         "rawType": "object",
         "type": "string"
        },
        {
         "name": "stage",
         "rawType": "object",
         "type": "string"
        },
        {
         "name": "split",
         "rawType": "object",
         "type": "string"
        },
        {
         "name": "raw",
         "rawType": "object",
         "type": "string"
        },
        {
         "name": "epochs",
         "rawType": "object",
         "type": "string"
        }
       ],
       "conversionMethod": "pd.DataFrame",
       "ref": "865ee437-235f-4a96-bb3a-4395b0bfdca0",
       "rows": [
        [
         "0",
         "P2",
         "post",
         "training",
         "RawArray",
         "Epochs"
        ],
        [
         "1",
         "P2",
         "post",
         "test",
         "RawArray",
         "Epochs"
        ],
        [
         "2",
         "P2",
         "pre",
         "training",
         "RawArray",
         "Epochs"
        ],
        [
         "3",
         "P3",
         "pre",
         "training",
         "RawArray",
         "Epochs"
        ],
        [
         "4",
         "P1",
         "post",
         "test",
         "RawArray",
         "Epochs"
        ],
        [
         "5",
         "P3",
         "post",
         "training",
         "RawArray",
         "Epochs"
        ],
        [
         "6",
         "P1",
         "post",
         "training",
         "RawArray",
         "Epochs"
        ],
        [
         "7",
         "P3",
         "post",
         "test",
         "RawArray",
         "Epochs"
        ],
        [
         "8",
         "P1",
         "pre",
         "test",
         "RawArray",
         "Epochs"
        ],
        [
         "9",
         "P2",
         "pre",
         "test",
         "RawArray",
         "Epochs"
        ],
        [
         "10",
         "P1",
         "pre",
         "training",
         "RawArray",
         "Epochs"
        ],
        [
         "11",
         "P3",
         "pre",
         "test",
         "RawArray",
         "Epochs"
        ]
       ],
       "shape": {
        "columns": 5,
        "rows": 12
       }
      },
      "text/html": [
       "<div>\n",
       "<style scoped>\n",
       "    .dataframe tbody tr th:only-of-type {\n",
       "        vertical-align: middle;\n",
       "    }\n",
       "\n",
       "    .dataframe tbody tr th {\n",
       "        vertical-align: top;\n",
       "    }\n",
       "\n",
       "    .dataframe thead th {\n",
       "        text-align: right;\n",
       "    }\n",
       "</style>\n",
       "<table border=\"1\" class=\"dataframe\">\n",
       "  <thead>\n",
       "    <tr style=\"text-align: right;\">\n",
       "      <th></th>\n",
       "      <th>subject</th>\n",
       "      <th>stage</th>\n",
       "      <th>split</th>\n",
       "      <th>raw</th>\n",
       "      <th>epochs</th>\n",
       "    </tr>\n",
       "  </thead>\n",
       "  <tbody>\n",
       "    <tr>\n",
       "      <th>0</th>\n",
       "      <td>P2</td>\n",
       "      <td>post</td>\n",
       "      <td>training</td>\n",
       "      <td>RawArray</td>\n",
       "      <td>Epochs</td>\n",
       "    </tr>\n",
       "    <tr>\n",
       "      <th>1</th>\n",
       "      <td>P2</td>\n",
       "      <td>post</td>\n",
       "      <td>test</td>\n",
       "      <td>RawArray</td>\n",
       "      <td>Epochs</td>\n",
       "    </tr>\n",
       "    <tr>\n",
       "      <th>2</th>\n",
       "      <td>P2</td>\n",
       "      <td>pre</td>\n",
       "      <td>training</td>\n",
       "      <td>RawArray</td>\n",
       "      <td>Epochs</td>\n",
       "    </tr>\n",
       "    <tr>\n",
       "      <th>3</th>\n",
       "      <td>P3</td>\n",
       "      <td>pre</td>\n",
       "      <td>training</td>\n",
       "      <td>RawArray</td>\n",
       "      <td>Epochs</td>\n",
       "    </tr>\n",
       "    <tr>\n",
       "      <th>4</th>\n",
       "      <td>P1</td>\n",
       "      <td>post</td>\n",
       "      <td>test</td>\n",
       "      <td>RawArray</td>\n",
       "      <td>Epochs</td>\n",
       "    </tr>\n",
       "    <tr>\n",
       "      <th>5</th>\n",
       "      <td>P3</td>\n",
       "      <td>post</td>\n",
       "      <td>training</td>\n",
       "      <td>RawArray</td>\n",
       "      <td>Epochs</td>\n",
       "    </tr>\n",
       "    <tr>\n",
       "      <th>6</th>\n",
       "      <td>P1</td>\n",
       "      <td>post</td>\n",
       "      <td>training</td>\n",
       "      <td>RawArray</td>\n",
       "      <td>Epochs</td>\n",
       "    </tr>\n",
       "    <tr>\n",
       "      <th>7</th>\n",
       "      <td>P3</td>\n",
       "      <td>post</td>\n",
       "      <td>test</td>\n",
       "      <td>RawArray</td>\n",
       "      <td>Epochs</td>\n",
       "    </tr>\n",
       "    <tr>\n",
       "      <th>8</th>\n",
       "      <td>P1</td>\n",
       "      <td>pre</td>\n",
       "      <td>test</td>\n",
       "      <td>RawArray</td>\n",
       "      <td>Epochs</td>\n",
       "    </tr>\n",
       "    <tr>\n",
       "      <th>9</th>\n",
       "      <td>P2</td>\n",
       "      <td>pre</td>\n",
       "      <td>test</td>\n",
       "      <td>RawArray</td>\n",
       "      <td>Epochs</td>\n",
       "    </tr>\n",
       "    <tr>\n",
       "      <th>10</th>\n",
       "      <td>P1</td>\n",
       "      <td>pre</td>\n",
       "      <td>training</td>\n",
       "      <td>RawArray</td>\n",
       "      <td>Epochs</td>\n",
       "    </tr>\n",
       "    <tr>\n",
       "      <th>11</th>\n",
       "      <td>P3</td>\n",
       "      <td>pre</td>\n",
       "      <td>test</td>\n",
       "      <td>RawArray</td>\n",
       "      <td>Epochs</td>\n",
       "    </tr>\n",
       "  </tbody>\n",
       "</table>\n",
       "</div>"
      ],
      "text/plain": [
       "   subject stage     split       raw  epochs\n",
       "0       P2  post  training  RawArray  Epochs\n",
       "1       P2  post      test  RawArray  Epochs\n",
       "2       P2   pre  training  RawArray  Epochs\n",
       "3       P3   pre  training  RawArray  Epochs\n",
       "4       P1  post      test  RawArray  Epochs\n",
       "5       P3  post  training  RawArray  Epochs\n",
       "6       P1  post  training  RawArray  Epochs\n",
       "7       P3  post      test  RawArray  Epochs\n",
       "8       P1   pre      test  RawArray  Epochs\n",
       "9       P2   pre      test  RawArray  Epochs\n",
       "10      P1   pre  training  RawArray  Epochs\n",
       "11      P3   pre      test  RawArray  Epochs"
      ]
     },
     "execution_count": 9,
     "metadata": {},
     "output_type": "execute_result"
    }
   ],
   "source": [
    "# Select the simple string columns\n",
    "meta = df[[\"subject\", \"stage\", \"split\"]]\n",
    "# Create a new DataFrame with the types of the objects\n",
    "types = df[[\"raw\",\"epochs\"]].map(lambda x: type(x).__name__)\n",
    "# Concatenate both for display\n",
    "pd.concat([meta, types], axis=1)"
   ]
  }
 ],
 "metadata": {
  "kernelspec": {
   "display_name": "sleep_stage_classification_env",
   "language": "python",
   "name": "python3"
  },
  "language_info": {
   "codemirror_mode": {
    "name": "ipython",
    "version": 3
   },
   "file_extension": ".py",
   "mimetype": "text/x-python",
   "name": "python",
   "nbconvert_exporter": "python",
   "pygments_lexer": "ipython3",
   "version": "3.10.17"
  }
 },
 "nbformat": 4,
 "nbformat_minor": 2
}
